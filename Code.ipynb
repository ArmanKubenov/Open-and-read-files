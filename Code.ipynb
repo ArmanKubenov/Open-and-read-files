{
 "cells": [
  {
   "cell_type": "code",
   "execution_count": 2,
   "id": "dc527a35",
   "metadata": {},
   "outputs": [],
   "source": [
    "import os\n",
    "from pprint import pprint\n",
    "\n",
    "current = os.getcwd()\n",
    "folder_name = r\"C:\\Users\\araco\\Desktop\\open_file\\txt\"\n",
    "full_path = os.path.join(current, folder_name)\n",
    "files = os.listdir(full_path)\n",
    "\n",
    "file_dict = {}\n",
    "for f in files:\n",
    "    name = os.path.join(full_path,f)\n",
    "    with open(name, encoding='utf-8') as file:\n",
    "        lines = file.readlines()\n",
    "        text = []\n",
    "        len_text = len(lines)\n",
    "        for line in lines:\n",
    "            text.append(line.strip())\n",
    "        file_dict[f] = (len_text, text)\n",
    "\n",
    "sorted_values = sorted(file_dict.values()) \n",
    "sorted_dict = {}\n",
    "\n",
    "for i in sorted_values:\n",
    "    for k in file_dict.keys():\n",
    "        if file_dict[k] == i:\n",
    "            sorted_dict[k] = file_dict[k]\n",
    "            break\n",
    "\n",
    "with open('sort_text.txt', \"w\", encoding='utf-8') as file:\n",
    "    for key, value in sorted_dict.items():\n",
    "        file.write(f\"{key}\\n\")\n",
    "        file.write(f\"{value[0]}\\n\")\n",
    "        for val in value[1]:\n",
    "            file.write(f\"{val}\\n\")"
   ]
  },
  {
   "cell_type": "code",
   "execution_count": null,
   "id": "895d6189",
   "metadata": {},
   "outputs": [],
   "source": []
  }
 ],
 "metadata": {
  "kernelspec": {
   "display_name": "Python 3 (ipykernel)",
   "language": "python",
   "name": "python3"
  },
  "language_info": {
   "codemirror_mode": {
    "name": "ipython",
    "version": 3
   },
   "file_extension": ".py",
   "mimetype": "text/x-python",
   "name": "python",
   "nbconvert_exporter": "python",
   "pygments_lexer": "ipython3",
   "version": "3.10.9"
  }
 },
 "nbformat": 4,
 "nbformat_minor": 5
}
